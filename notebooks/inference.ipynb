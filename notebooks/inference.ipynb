{
 "cells": [
  {
   "cell_type": "markdown",
   "metadata": {},
   "source": [
    "# Inference using a trained TauVAE"
   ]
  },
  {
   "cell_type": "code",
   "execution_count": 1,
   "metadata": {},
   "outputs": [],
   "source": [
    "import numpy as np\n",
    "from pathlib import Path"
   ]
  },
  {
   "cell_type": "code",
   "execution_count": 2,
   "metadata": {},
   "outputs": [],
   "source": [
    "from cellxpredict.config import FullConfig\n",
    "from cellxpredict.models import _build_full"
   ]
  },
  {
   "cell_type": "code",
   "execution_count": 3,
   "metadata": {},
   "outputs": [],
   "source": [
    "config = FullConfig(\n",
    "    model_dir = Path(\"/media/quantumjot/DataIII/Models/docker\"),\n",
    "    use_probabilistic_encoder=True,\n",
    ")"
   ]
  },
  {
   "cell_type": "code",
   "execution_count": 4,
   "metadata": {},
   "outputs": [
    {
     "data": {
      "text/plain": [
       "FullConfig(src_dir=None, model_dir=PosixPath('/media/quantumjot/DataIII/Models/docker'), log_dir=None, latent_dims=32, intermediate_dims=256, capacity=50, gamma=1000, input_shape=(64, 64, 2), layers=[8, 16, 32, 64], model='full', num_outputs=3, max_len=128, dropout_rate=0.0, noise=1.0, use_probabilistic_encoder=True)"
      ]
     },
     "execution_count": 4,
     "metadata": {},
     "output_type": "execute_result"
    }
   ],
   "source": [
    "config"
   ]
  },
  {
   "cell_type": "code",
   "execution_count": 5,
   "metadata": {},
   "outputs": [],
   "source": [
    "model = _build_full(config)"
   ]
  },
  {
   "cell_type": "code",
   "execution_count": 6,
   "metadata": {},
   "outputs": [
    {
     "name": "stdout",
     "output_type": "stream",
     "text": [
      "Model: \"TauVAE\"\n",
      "_________________________________________________________________\n",
      "Layer (type)                 Output Shape              Param #   \n",
      "=================================================================\n",
      "input_5 (InputLayer)         [(None, 128, 64, 64, 2)]  0         \n",
      "_________________________________________________________________\n",
      "tf.reshape (TFOpLambda)      (None, 64, 64, 2)         0         \n",
      "_________________________________________________________________\n",
      "variational_encoder (Functio [(None, 32), (None, 32),  2138928   \n",
      "_________________________________________________________________\n",
      "tf.reshape_1 (TFOpLambda)    (None, 128, 32)           0         \n",
      "_________________________________________________________________\n",
      "pca_transform (PCATransform) (None, 128, 32)           0         \n",
      "_________________________________________________________________\n",
      "Full_TCN (Functional)        (None, 3)                 234705    \n",
      "=================================================================\n",
      "Total params: 2,373,633\n",
      "Trainable params: 123,203\n",
      "Non-trainable params: 2,250,430\n",
      "_________________________________________________________________\n"
     ]
    }
   ],
   "source": [
    "model.summary()"
   ]
  },
  {
   "cell_type": "code",
   "execution_count": 7,
   "metadata": {},
   "outputs": [],
   "source": [
    "example = np.random.randn(1, 128, 64, 64, 2)"
   ]
  },
  {
   "cell_type": "code",
   "execution_count": 8,
   "metadata": {},
   "outputs": [
    {
     "data": {
      "text/plain": [
       "(1, 128, 64, 64, 2)"
      ]
     },
     "execution_count": 8,
     "metadata": {},
     "output_type": "execute_result"
    }
   ],
   "source": [
    "example.shape"
   ]
  },
  {
   "cell_type": "code",
   "execution_count": 9,
   "metadata": {},
   "outputs": [
    {
     "data": {
      "text/plain": [
       "array([[ -0.6961969, -10.363277 ,   1.8914063]], dtype=float32)"
      ]
     },
     "execution_count": 9,
     "metadata": {},
     "output_type": "execute_result"
    }
   ],
   "source": [
    "model.predict(example)"
   ]
  },
  {
   "cell_type": "code",
   "execution_count": null,
   "metadata": {},
   "outputs": [],
   "source": []
  }
 ],
 "metadata": {
  "kernelspec": {
   "display_name": "Python [conda env:tf2]",
   "language": "python",
   "name": "conda-env-tf2-py"
  },
  "language_info": {
   "codemirror_mode": {
    "name": "ipython",
    "version": 3
   },
   "file_extension": ".py",
   "mimetype": "text/x-python",
   "name": "python",
   "nbconvert_exporter": "python",
   "pygments_lexer": "ipython3",
   "version": "3.9.6"
  }
 },
 "nbformat": 4,
 "nbformat_minor": 4
}
